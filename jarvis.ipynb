{
 "cells": [
  {
   "cell_type": "code",
   "execution_count": 1,
   "metadata": {},
   "outputs": [],
   "source": [
    "import pyttsx3\n",
    "import datetime\n",
    "import speech_recognition as sr\n",
    "import wikipedia\n",
    "import webbrowser\n",
    "import os"
   ]
  },
  {
   "cell_type": "code",
   "execution_count": 2,
   "metadata": {},
   "outputs": [],
   "source": [
    "engine = pyttsx3.init('sapi5')\n",
    "voices= engine.getProperty('voices') \n",
    "engine.setProperty('voice',voices[0].id)"
   ]
  },
  {
   "cell_type": "code",
   "execution_count": 3,
   "metadata": {},
   "outputs": [],
   "source": [
    "def speak(audio):\n",
    "    engine.say(audio) \n",
    "    engine.runAndWait()"
   ]
  },
  {
   "cell_type": "code",
   "execution_count": 4,
   "metadata": {},
   "outputs": [],
   "source": [
    "def wishme():\n",
    "    hour = int(datetime.datetime.now().hour)\n",
    "    if hour>=0 and hour<12:\n",
    "        speak(\"Good Morning!\")\n",
    "    elif hour>=12 and hour<18:\n",
    "        speak(\"Good Afternoon!\")\n",
    "    else:\n",
    "        speak(\"Good Evening!\")\n",
    "    speak(\"Jarvis Here, How may i help you?\")"
   ]
  },
  {
   "cell_type": "code",
   "execution_count": 5,
   "metadata": {},
   "outputs": [],
   "source": [
    "def takecommand():\n",
    "    r=sr.Recognizer()\n",
    "    with sr.Microphone() as source:\n",
    "        print(\"Listening...\")\n",
    "        r.pause_threshold= 1 #gap threshold before a phase is completed\n",
    "        audio=r.listen(source)\n",
    "    try:\n",
    "        print(\"Recognizing...\")\n",
    "        query=r.recognize_google(audio,language='en-in')\n",
    "        print(\"user said:\",query)\n",
    "    except Exception as e:\n",
    "        print(\"Sorry, can you please return\")\n",
    "        return \"None\"\n",
    "    return query\n",
    "    \n",
    "    "
   ]
  },
  {
   "cell_type": "code",
   "execution_count": 10,
   "metadata": {},
   "outputs": [
    {
     "name": "stdout",
     "output_type": "stream",
     "text": [
      "Listening...\n",
      "Recognizing...\n",
      "user said: please open YouTube\n"
     ]
    }
   ],
   "source": [
    "if __name__==\"__main__\" :\n",
    "    wishme()\n",
    "    while True:\n",
    "        query=takecommand().lower()\n",
    "        #tasks based on query\n",
    "        if 'wikipedia' in query:\n",
    "            speak('Searching wikipedia')\n",
    "            query=query.replace(\"wikipedia\",\"\")\n",
    "            results=wikipedia.summary(query,sentences=2)\n",
    "            speak(\"According to Wikipedia\")\n",
    "            print(results)\n",
    "            speak(results)\n",
    "            break\n",
    "        elif 'open youtube' in query:\n",
    "            webbrowser.open(\"http://youtube.com\")   \n",
    "            break\n",
    "        elif 'open google' in query:\n",
    "            webbrowser.open(\"http://google.com\")\n",
    "            break\n",
    "        elif 'open netflix' in query:\n",
    "            webbrowser.open(\"https://www.netflix.com/browse\")\n",
    "            break\n",
    "        elif 'the time' in query:\n",
    "            strTime = datetime.datetime.now().strftime(\"%H:%M:%S\")    \n",
    "            speak(f\", the time is {strTime}\")\n",
    "            break\n",
    "        elif 'open download' or 'open downloads' in query:\n",
    "            path=\"C:\\\\Users\\\\SAM\\\\Downloads\"\n",
    "            os.startfile(path)\n",
    "            break\n",
    "    "
   ]
  }
 ],
 "metadata": {
  "kernelspec": {
   "display_name": "Python 3",
   "language": "python",
   "name": "python3"
  },
  "language_info": {
   "codemirror_mode": {
    "name": "ipython",
    "version": 3
   },
   "file_extension": ".py",
   "mimetype": "text/x-python",
   "name": "python",
   "nbconvert_exporter": "python",
   "pygments_lexer": "ipython3",
   "version": "3.7.6"
  }
 },
 "nbformat": 4,
 "nbformat_minor": 4
}
